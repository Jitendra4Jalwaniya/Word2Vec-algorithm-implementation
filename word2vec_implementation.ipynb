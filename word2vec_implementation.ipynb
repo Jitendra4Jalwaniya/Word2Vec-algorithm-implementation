{
  "nbformat": 4,
  "nbformat_minor": 0,
  "metadata": {
    "colab": {
      "name": "word2vec implementation.ipynb",
      "provenance": [],
      "collapsed_sections": [],
      "authorship_tag": "ABX9TyOOib/erNcbFDxq52SwJz/N",
      "include_colab_link": true
    },
    "kernelspec": {
      "name": "python3",
      "display_name": "Python 3"
    },
    "language_info": {
      "name": "python"
    }
  },
  "cells": [
    {
      "cell_type": "markdown",
      "metadata": {
        "id": "view-in-github",
        "colab_type": "text"
      },
      "source": [
        "<a href=\"https://colab.research.google.com/github/Jitendra4Jalwaniya/Word2Vec-algorithm-implementation/blob/main/word2vec_implementation.ipynb\" target=\"_parent\"><img src=\"https://colab.research.google.com/assets/colab-badge.svg\" alt=\"Open In Colab\"/></a>"
      ]
    },
    {
      "cell_type": "code",
      "metadata": {
        "id": "CUgFhs560Tly"
      },
      "source": [
        "# defining a small corpus\n",
        "\n",
        "corpus = [\n",
        "    'he is a king',\n",
        "    'she is a queen',\n",
        "    'he is a man',\n",
        "    'she is a woman',\n",
        "    'warsaw is poland capital',\n",
        "    'berlin is germany capital',\n",
        "    'paris is france capital',\n",
        "]"
      ],
      "execution_count": null,
      "outputs": []
    },
    {
      "cell_type": "code",
      "metadata": {
        "colab": {
          "base_uri": "https://localhost:8080/"
        },
        "id": "_5RIZW3V0hMR",
        "outputId": "cacc36b8-9b17-4a86-adf1-65e9550da3b9"
      },
      "source": [
        "# creating a vocabulary\n",
        "\n",
        "def tokenize_corpus(corpus):\n",
        "    tokens = [x.split() for x in corpus]\n",
        "    return tokens\n",
        "\n",
        "tokenized_corpus = tokenize_corpus(corpus)\n",
        "tokenized_corpus"
      ],
      "execution_count": null,
      "outputs": [
        {
          "output_type": "execute_result",
          "data": {
            "text/plain": [
              "[['he', 'is', 'a', 'king'],\n",
              " ['she', 'is', 'a', 'queen'],\n",
              " ['he', 'is', 'a', 'man'],\n",
              " ['she', 'is', 'a', 'woman'],\n",
              " ['warsaw', 'is', 'poland', 'capital'],\n",
              " ['berlin', 'is', 'germany', 'capital'],\n",
              " ['paris', 'is', 'france', 'capital']]"
            ]
          },
          "metadata": {
            "tags": []
          },
          "execution_count": 3
        }
      ]
    },
    {
      "cell_type": "code",
      "metadata": {
        "colab": {
          "base_uri": "https://localhost:8080/"
        },
        "id": "WV6Wizmq0uZI",
        "outputId": "c88d6ce4-4385-443c-e12e-628e6ba04e34"
      },
      "source": [
        "vocabulary = []\n",
        "\n",
        "for sentence in tokenized_corpus:\n",
        "  for token in sentence:\n",
        "    if token not in vocabulary:\n",
        "      vocabulary.append(token)\n",
        "\n",
        "word2idx = {w: idx for (idx,w) in enumerate(vocabulary)}\n",
        "idx2word = {idx:w for (idx,w) in enumerate(vocabulary)}\n",
        "\n",
        "vocabulary_size = len(vocabulary)\n",
        "\n",
        "print(idx2word)"
      ],
      "execution_count": null,
      "outputs": [
        {
          "output_type": "stream",
          "text": [
            "{0: 'he', 1: 'is', 2: 'a', 3: 'king', 4: 'she', 5: 'queen', 6: 'man', 7: 'woman', 8: 'warsaw', 9: 'poland', 10: 'capital', 11: 'berlin', 12: 'germany', 13: 'paris', 14: 'france'}\n"
          ],
          "name": "stdout"
        }
      ]
    },
    {
      "cell_type": "code",
      "metadata": {
        "colab": {
          "base_uri": "https://localhost:8080/"
        },
        "id": "cFnsoZrX1smj",
        "outputId": "f3086cb8-ed85-4fd2-b786-6bfdd1d92108"
      },
      "source": [
        "# lets generate (center word, context word) pairs\n",
        "# context window = 2\n",
        "\n",
        "import numpy as np\n",
        "window_size = 2\n",
        "idx_pairs = []\n",
        "\n",
        "# for each sentence\n",
        "for sentence in tokenized_corpus:\n",
        "  indices = [word2idx[word] for word in sentence]\n",
        "  for center_word_pos in range(len(indices)):\n",
        "    for w in range(-window_size,window_size +1):\n",
        "      context_word_pos = center_word_pos + w\n",
        "      if context_word_pos<0 or context_word_pos>=len(indices) or center_word_pos==context_word_pos:\n",
        "        continue\n",
        "      context_word_idx=indices[context_word_pos]\n",
        "      idx_pairs.append((indices[center_word_pos],context_word_idx))\n",
        "\n",
        "idx_pairs=np.array(idx_pairs)\n",
        "idx_pairs"
      ],
      "execution_count": null,
      "outputs": [
        {
          "output_type": "execute_result",
          "data": {
            "text/plain": [
              "array([[ 0,  1],\n",
              "       [ 0,  2],\n",
              "       [ 1,  0],\n",
              "       [ 1,  2],\n",
              "       [ 1,  3],\n",
              "       [ 2,  0],\n",
              "       [ 2,  1],\n",
              "       [ 2,  3],\n",
              "       [ 3,  1],\n",
              "       [ 3,  2],\n",
              "       [ 4,  1],\n",
              "       [ 4,  2],\n",
              "       [ 1,  4],\n",
              "       [ 1,  2],\n",
              "       [ 1,  5],\n",
              "       [ 2,  4],\n",
              "       [ 2,  1],\n",
              "       [ 2,  5],\n",
              "       [ 5,  1],\n",
              "       [ 5,  2],\n",
              "       [ 0,  1],\n",
              "       [ 0,  2],\n",
              "       [ 1,  0],\n",
              "       [ 1,  2],\n",
              "       [ 1,  6],\n",
              "       [ 2,  0],\n",
              "       [ 2,  1],\n",
              "       [ 2,  6],\n",
              "       [ 6,  1],\n",
              "       [ 6,  2],\n",
              "       [ 4,  1],\n",
              "       [ 4,  2],\n",
              "       [ 1,  4],\n",
              "       [ 1,  2],\n",
              "       [ 1,  7],\n",
              "       [ 2,  4],\n",
              "       [ 2,  1],\n",
              "       [ 2,  7],\n",
              "       [ 7,  1],\n",
              "       [ 7,  2],\n",
              "       [ 8,  1],\n",
              "       [ 8,  9],\n",
              "       [ 1,  8],\n",
              "       [ 1,  9],\n",
              "       [ 1, 10],\n",
              "       [ 9,  8],\n",
              "       [ 9,  1],\n",
              "       [ 9, 10],\n",
              "       [10,  1],\n",
              "       [10,  9],\n",
              "       [11,  1],\n",
              "       [11, 12],\n",
              "       [ 1, 11],\n",
              "       [ 1, 12],\n",
              "       [ 1, 10],\n",
              "       [12, 11],\n",
              "       [12,  1],\n",
              "       [12, 10],\n",
              "       [10,  1],\n",
              "       [10, 12],\n",
              "       [13,  1],\n",
              "       [13, 14],\n",
              "       [ 1, 13],\n",
              "       [ 1, 14],\n",
              "       [ 1, 10],\n",
              "       [14, 13],\n",
              "       [14,  1],\n",
              "       [14, 10],\n",
              "       [10,  1],\n",
              "       [10, 14]])"
            ]
          },
          "metadata": {
            "tags": []
          },
          "execution_count": 9
        }
      ]
    },
    {
      "cell_type": "code",
      "metadata": {
        "id": "GfxN6Wxk48EM"
      },
      "source": [
        "import torch\n",
        "import torch.nn.functional as F"
      ],
      "execution_count": null,
      "outputs": []
    },
    {
      "cell_type": "code",
      "metadata": {
        "id": "Qwkf89RGDroh"
      },
      "source": [
        "# lets define the input layer using one-hot representation\n",
        "\n",
        "def get_input_layer(word_idx):\n",
        "  x=torch.zeros(vocabulary_size).float()\n",
        "  return x"
      ],
      "execution_count": null,
      "outputs": []
    },
    {
      "cell_type": "code",
      "metadata": {
        "colab": {
          "base_uri": "https://localhost:8080/",
          "height": 131
        },
        "id": "weVz_iapFZ-I",
        "outputId": "5d15c68a-7d43-477f-ba46-de620dbe30e5"
      },
      "source": [
        "# training loop\n",
        "\n",
        "embedding_dims=5\n",
        "w1=torch.randn((embedding_dims,vocabulary_size).float(),requires_grad=True)\n",
        "w2=torch.randn((vocabulary_size,embedding_dims).float(),requires_grad=True)\n",
        "epochs=100\n",
        "lr=0.001\n",
        "\n",
        "for epoch in range(epochs):\n",
        "  loss_val=0\n",
        "  for data,target in idx_pairs:\n",
        "    x=get_input_layer(data).float()\n",
        "    y_true=torch.from_numpy(np.array([target]).long()\n",
        "\n",
        "    z1=torch.matmul(w1,x)\n",
        "    z2=torch.matmul(w2,z1)\n",
        "\n",
        "    log_softmax = F.log_softmax(z2,dim=0)\n",
        "    loss=F.nll_loss(log_softmax.view(1,-1),y_true)\n",
        "    loss_val+=loss.data[0]\n",
        "    loss.backward()\n",
        "    w1.data-=lr*w1.grad.data\n",
        "    w2.data-=lr*w2.grad.data\n",
        "    w1.grad.data.zero_()\n",
        "    w2.grad.data.zero_()\n",
        "\n",
        "  if epoch%10==0:\n",
        "    print(f\"loss at epoch {epoch} is {loss_val/len(idx_pairs)}\")"
      ],
      "execution_count": null,
      "outputs": [
        {
          "output_type": "error",
          "ename": "SyntaxError",
          "evalue": "ignored",
          "traceback": [
            "\u001b[0;36m  File \u001b[0;32m\"<ipython-input-16-d123dfb5663c>\"\u001b[0;36m, line \u001b[0;32m15\u001b[0m\n\u001b[0;31m    z1=torch.matmul(w1,x)\u001b[0m\n\u001b[0m     ^\u001b[0m\n\u001b[0;31mSyntaxError\u001b[0m\u001b[0;31m:\u001b[0m invalid syntax\n"
          ]
        }
      ]
    },
    {
      "cell_type": "code",
      "metadata": {
        "id": "BSaHMneiJKBv"
      },
      "source": [
        ""
      ],
      "execution_count": null,
      "outputs": []
    }
  ]
}